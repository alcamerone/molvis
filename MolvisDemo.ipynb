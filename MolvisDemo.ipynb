{
 "cells": [
  {
   "cell_type": "code",
   "execution_count": 1,
   "id": "0e71c54c",
   "metadata": {
    "scrolled": true
   },
   "outputs": [
    {
     "data": {
      "application/vnd.jupyter.widget-view+json": {
       "model_id": "3a62b450cb71404cbc32209bd9ffaeae",
       "version_major": 2,
       "version_minor": 0
      },
      "text/plain": []
     },
     "metadata": {},
     "output_type": "display_data"
    }
   ],
   "source": [
    "from molvis.Macromolecule import Macromolecule\n",
    "from molvis.ChemicalMolecule import ChemicalMolecule"
   ]
  },
  {
   "cell_type": "code",
   "execution_count": 2,
   "id": "e9d2b1ca",
   "metadata": {},
   "outputs": [
    {
     "name": "stdout",
     "output_type": "stream",
     "text": [
      "Downloading PDB structure '6LU7'...\n"
     ]
    }
   ],
   "source": [
    "# Get the crystal structure of the main COVID-19 protease\n",
    "# (See https://www.rcsb.org/structure/6LU7)\n",
    "protease = Macromolecule(pdbid=\"6LU7\")"
   ]
  },
  {
   "cell_type": "code",
   "execution_count": 3,
   "id": "7a9a4c85",
   "metadata": {},
   "outputs": [],
   "source": [
    "# Get the 3D structure of lopinavir\n",
    "# (See https://www.ebi.ac.uk/chembl/compound report card/CHEMBL729)\n",
    "lopinavir = ChemicalMolecule(chemblid=\"CHEMBL729\")"
   ]
  },
  {
   "cell_type": "code",
   "execution_count": 4,
   "id": "8721632d",
   "metadata": {},
   "outputs": [],
   "source": [
    "# Interactively showing the molecules\n",
    "viewer = protease.show()"
   ]
  },
  {
   "cell_type": "code",
   "execution_count": 5,
   "id": "a5f4400f",
   "metadata": {},
   "outputs": [
    {
     "data": {
      "application/vnd.jupyter.widget-view+json": {
       "model_id": "3e261f5c46fa431ab6e357e9411e01ef",
       "version_major": 2,
       "version_minor": 0
      },
      "text/plain": [
       "NGLWidget()"
      ]
     },
     "metadata": {},
     "output_type": "display_data"
    }
   ],
   "source": [
    "viewer # You should see a result similar to Figure 1"
   ]
  },
  {
   "cell_type": "code",
   "execution_count": 6,
   "id": "7ce1a142",
   "metadata": {
    "scrolled": true
   },
   "outputs": [],
   "source": [
    "lopinavir.show(viewer) # You should see a result similar to Figure 2"
   ]
  },
  {
   "cell_type": "code",
   "execution_count": 7,
   "id": "2cc45ff5",
   "metadata": {},
   "outputs": [
    {
     "data": {
      "text/plain": [
       "PosixPath('lopinavir.sdf')"
      ]
     },
     "execution_count": 7,
     "metadata": {},
     "output_type": "execute_result"
    }
   ],
   "source": [
    "# Saving molecule data to files\n",
    "protease.save(\"./protease.pdb\") # Must return a ‘pathlib.Path‘ object\n",
    "lopinavir.save(\"./lopinavir.sdf\")"
   ]
  }
 ],
 "metadata": {
  "kernelspec": {
   "display_name": "Python 3 (ipykernel)",
   "language": "python",
   "name": "python3"
  },
  "language_info": {
   "codemirror_mode": {
    "name": "ipython",
    "version": 3
   },
   "file_extension": ".py",
   "mimetype": "text/x-python",
   "name": "python",
   "nbconvert_exporter": "python",
   "pygments_lexer": "ipython3",
   "version": "3.9.5"
  }
 },
 "nbformat": 4,
 "nbformat_minor": 5
}
